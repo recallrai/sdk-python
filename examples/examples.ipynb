{
 "cells": [
  {
   "cell_type": "markdown",
   "id": "9c6e9111",
   "metadata": {},
   "source": [
    "# RecallrAI Python SDK Examples\n",
    "\n",
    "This notebook demonstrates the usage of the RecallrAI Python SDK, a system that enables AI assistants to form meaningful connections between conversations, just like human memory."
   ]
  },
  {
   "cell_type": "markdown",
   "id": "8d592c7b",
   "metadata": {},
   "source": [
    "## Installation\n",
    "To install the RecallrAI Python SDK, use the following command:"
   ]
  },
  {
   "cell_type": "code",
   "execution_count": null,
   "id": "f1229812",
   "metadata": {},
   "outputs": [],
   "source": [
    "%pip install recallrai python-dotenv --upgrade --quiet"
   ]
  },
  {
   "cell_type": "code",
   "execution_count": null,
   "id": "b6ec300a",
   "metadata": {},
   "outputs": [],
   "source": [
    "import recallrai\n",
    "print(recallrai.__version__)"
   ]
  },
  {
   "cell_type": "markdown",
   "id": "6b78cea7",
   "metadata": {},
   "source": [
    "## Initialization\n",
    "\n",
    "First, create a client instance with your API key and project ID:"
   ]
  },
  {
   "cell_type": "code",
   "execution_count": null,
   "id": "9c6f3b25",
   "metadata": {},
   "outputs": [],
   "source": [
    "import os\n",
    "from recallrai import RecallrAI\n",
    "from dotenv import load_dotenv\n",
    "\n",
    "# Load environment variables from .env file\n",
    "load_dotenv()\n",
    "\n",
    "# Replace with your actual API key and project ID\n",
    "api_key = os.getenv(\"RECALLRAI_API_KEY\")\n",
    "project_id = os.getenv(\"RECALLRAI_PROJECT_ID\")\n",
    "\n",
    "if not api_key or not project_id:\n",
    "    raise ValueError(\"Please set RECALLRAI_API_KEY and RECALLRAI_PROJECT_ID in your .env file.\")\n",
    "\n",
    "client = RecallrAI(api_key=api_key, project_id=project_id)"
   ]
  },
  {
   "cell_type": "markdown",
   "id": "9b2dcf05",
   "metadata": {},
   "source": [
    "## User Management\n",
    "\n",
    "### Create a User"
   ]
  },
  {
   "cell_type": "code",
   "execution_count": null,
   "id": "7f7655d4",
   "metadata": {},
   "outputs": [],
   "source": [
    "from recallrai.exceptions import UserAlreadyExistsError\n",
    "try:\n",
    "    user = client.create_user(user_id=\"user123\", metadata={\"name\": \"John Doe\"})\n",
    "    print(f\"Created user: {user.user_id}\")\n",
    "    print(f\"User metadata: {user.metadata}\")\n",
    "    print(f\"Created at: {user.created_at}\")\n",
    "except UserAlreadyExistsError as e:\n",
    "    print(f\"Error: {e}\")"
   ]
  },
  {
   "cell_type": "markdown",
   "id": "4acd8cf4",
   "metadata": {},
   "source": [
    "### Get a User"
   ]
  },
  {
   "cell_type": "code",
   "execution_count": null,
   "id": "b90d21b0",
   "metadata": {},
   "outputs": [],
   "source": [
    "from recallrai.exceptions import UserNotFoundError\n",
    "try:\n",
    "    user = client.get_user(\"user123\")\n",
    "    print(f\"User metadata: {user.metadata}\")\n",
    "    print(f\"Last active: {user.last_active_at}\")\n",
    "except UserNotFoundError as e:\n",
    "    print(f\"Error: {e}\")"
   ]
  },
  {
   "cell_type": "markdown",
   "id": "58b5ff65",
   "metadata": {},
   "source": [
    "### List Users"
   ]
  },
  {
   "cell_type": "code",
   "execution_count": null,
   "id": "8f3bd837",
   "metadata": {},
   "outputs": [],
   "source": [
    "user_list = client.list_users(offset=0, limit=10)\n",
    "print(f\"Total users: {user_list.total}\")\n",
    "print(f\"Has more users: {user_list.has_more}\")\n",
    "\n",
    "for user in user_list.users:\n",
    "    print(f\"User ID: {user.user_id}\")\n",
    "    print(f\"Metadata: {user.metadata}\")\n",
    "    print(f\"Created at: {user.created_at}\")\n",
    "    print(f\"Last active: {user.last_active_at}\")\n",
    "    print(\"---\")"
   ]
  },
  {
   "cell_type": "markdown",
   "id": "63198cf9",
   "metadata": {},
   "source": [
    "### Update a User"
   ]
  },
  {
   "cell_type": "code",
   "execution_count": null,
   "id": "654e2711",
   "metadata": {},
   "outputs": [],
   "source": [
    "from recallrai.exceptions import UserNotFoundError, UserAlreadyExistsError\n",
    "try:\n",
    "    user = client.get_user(\"user123\")\n",
    "    updated_user = user.update(\n",
    "        new_metadata={\"name\": \"John Doe\", \"role\": \"admin\"},\n",
    "        new_user_id=\"john_doe\"\n",
    "    )\n",
    "    print(f\"Updated user ID: {updated_user.user_id}\")\n",
    "    print(f\"Updated metadata: {updated_user.metadata}\")\n",
    "except UserNotFoundError as e:\n",
    "    print(f\"Error: {e}\")\n",
    "except UserAlreadyExistsError as e:\n",
    "    print(f\"Error: {e}\")"
   ]
  },
  {
   "cell_type": "markdown",
   "id": "094fd815",
   "metadata": {},
   "source": [
    "### Delete a User"
   ]
  },
  {
   "cell_type": "code",
   "execution_count": null,
   "id": "89ceb671",
   "metadata": {},
   "outputs": [],
   "source": [
    "from recallrai.exceptions import UserNotFoundError\n",
    "try:\n",
    "    user = client.get_user(\"john_doe\")\n",
    "    user.delete()\n",
    "    print(\"User deleted successfully\")\n",
    "except UserNotFoundError as e:\n",
    "    print(f\"Error: {e}\")"
   ]
  },
  {
   "cell_type": "markdown",
   "id": "a9bcf3b8",
   "metadata": {},
   "source": [
    "## Session Management\n",
    "\n",
    "### Create a Session"
   ]
  },
  {
   "cell_type": "code",
   "execution_count": null,
   "id": "459e6136",
   "metadata": {},
   "outputs": [],
   "source": [
    "from recallrai.exceptions import UserNotFoundError\n",
    "from recallrai.session import Session\n",
    "\n",
    "try:\n",
    "    # First, get the user\n",
    "    user = client.get_user(\"user123\")\n",
    "    \n",
    "    # Create a session for the user; auto_process_after_minutes set to -1 disables auto-processing\n",
    "    session: Session = user.create_session(auto_process_after_minutes=5)\n",
    "    print(\"Created session id:\", session.session_id)\n",
    "except UserNotFoundError as e:\n",
    "    print(f\"Error: {e}\")"
   ]
  },
  {
   "cell_type": "markdown",
   "id": "c4233136",
   "metadata": {},
   "source": [
    "### Get an Existing Session"
   ]
  },
  {
   "cell_type": "code",
   "execution_count": null,
   "id": "e2eab9cf",
   "metadata": {},
   "outputs": [],
   "source": [
    "from recallrai.exceptions import UserNotFoundError, SessionNotFoundError\n",
    "\n",
    "try:\n",
    "    # First, get the user\n",
    "    user = client.get_user(\"user123\")\n",
    "    \n",
    "    # Retrieve an existing session by its ID\n",
    "    session = user.get_session(session_id=\"session-uuid\")\n",
    "    print(\"Session status:\", session.get_status())\n",
    "except UserNotFoundError as e:\n",
    "    print(f\"Error: {e}\")\n",
    "except SessionNotFoundError as e:\n",
    "    print(f\"Error: {e}\")"
   ]
  },
  {
   "cell_type": "markdown",
   "id": "15ad2d80",
   "metadata": {},
   "source": [
    "### List Sessions"
   ]
  },
  {
   "cell_type": "code",
   "execution_count": null,
   "id": "d667ae9a",
   "metadata": {},
   "outputs": [],
   "source": [
    "from recallrai.exceptions import UserNotFoundError\n",
    "\n",
    "try:\n",
    "    # First, get the user\n",
    "    user = client.get_user(\"user123\")\n",
    "    \n",
    "    # List sessions for this user\n",
    "    session_list = user.list_sessions(offset=0, limit=10)\n",
    "    for session in session_list.sessions:\n",
    "        print(session.session_id, session.status)\n",
    "except UserNotFoundError as e:\n",
    "    print(f\"Error: {e}\")"
   ]
  },
  {
   "cell_type": "markdown",
   "id": "1dda0e74",
   "metadata": {},
   "source": [
    "### Session – Adding Messages"
   ]
  },
  {
   "cell_type": "code",
   "execution_count": null,
   "id": "c6eb38e1",
   "metadata": {},
   "outputs": [],
   "source": [
    "from recallrai.exceptions import UserNotFoundError, SessionNotFoundError, InvalidSessionStateError\n",
    "\n",
    "try:\n",
    "    # Add a user message\n",
    "    session.add_user_message(\"Hello! How are you?\")\n",
    "    \n",
    "    # Add an assistant message\n",
    "    session.add_assistant_message(\"I'm an assistant. How can I help you?\")\n",
    "except UserNotFoundError as e:\n",
    "    print(f\"Error: {e}\")\n",
    "except SessionNotFoundError as e:\n",
    "    print(f\"Error: {e}\")\n",
    "except InvalidSessionStateError as e:\n",
    "    print(f\"Error: {e}\")"
   ]
  },
  {
   "cell_type": "markdown",
   "id": "cb5573cc",
   "metadata": {},
   "source": [
    "### Session – Retrieving Context"
   ]
  },
  {
   "cell_type": "code",
   "execution_count": null,
   "id": "b66f753a",
   "metadata": {},
   "outputs": [],
   "source": [
    "from recallrai.exceptions import UserNotFoundError, SessionNotFoundError\n",
    "\n",
    "try:\n",
    "    context = session.get_context()\n",
    "    print(\"Memory used:\", context.memory_used)\n",
    "    print(\"Context:\", context.context)\n",
    "except UserNotFoundError as e:\n",
    "    print(f\"Error: {e}\")\n",
    "except SessionNotFoundError as e:\n",
    "    print(f\"Error: {e}\")"
   ]
  },
  {
   "cell_type": "markdown",
   "id": "92cae327",
   "metadata": {},
   "source": [
    "### Session – Process Session"
   ]
  },
  {
   "cell_type": "code",
   "execution_count": null,
   "id": "1416cbd0",
   "metadata": {},
   "outputs": [],
   "source": [
    "from recallrai.exceptions import UserNotFoundError, SessionNotFoundError, InvalidSessionStateError\n",
    "\n",
    "try:\n",
    "    session.process()\n",
    "except UserNotFoundError as e:\n",
    "    print(f\"Error: {e}\")\n",
    "except SessionNotFoundError as e:\n",
    "    print(f\"Error: {e}\")\n",
    "except InvalidSessionStateError as e:\n",
    "    print(f\"Error: {e}\")"
   ]
  },
  {
   "cell_type": "markdown",
   "id": "122e9497",
   "metadata": {},
   "source": [
    "### Session – Get Status and Messages"
   ]
  },
  {
   "cell_type": "code",
   "execution_count": null,
   "id": "1f901fa8",
   "metadata": {},
   "outputs": [],
   "source": [
    "from recallrai.exceptions import UserNotFoundError, SessionNotFoundError\n",
    "from recallrai.models import SessionStatus\n",
    "\n",
    "try:\n",
    "    status = session.get_status()\n",
    "    print(\"Session status:\", status)\n",
    "    \n",
    "    # Check if the session is in a specific state\n",
    "    if status == SessionStatus.PROCESSED:\n",
    "        print(\"Session has been processed\")\n",
    "    \n",
    "    messages = session.get_messages()\n",
    "    for message in messages:\n",
    "        print(f\"{message.role}: {message.content} at {message.timestamp}\")\n",
    "except UserNotFoundError as e:\n",
    "    print(f\"Error: {e}\")\n",
    "except SessionNotFoundError as e:\n",
    "    print(f\"Error: {e}\")"
   ]
  }
 ],
 "metadata": {
  "kernelspec": {
   "display_name": "base",
   "language": "python",
   "name": "python3"
  },
  "language_info": {
   "codemirror_mode": {
    "name": "ipython",
    "version": 3
   },
   "file_extension": ".py",
   "mimetype": "text/x-python",
   "name": "python",
   "nbconvert_exporter": "python",
   "pygments_lexer": "ipython3",
   "version": "3.12.2"
  }
 },
 "nbformat": 4,
 "nbformat_minor": 5
}
